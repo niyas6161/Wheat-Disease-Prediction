{
  "nbformat": 4,
  "nbformat_minor": 0,
  "metadata": {
    "colab": {
      "provenance": [],
      "gpuType": "T4"
    },
    "kernelspec": {
      "name": "python3",
      "display_name": "Python 3"
    },
    "language_info": {
      "name": "python"
    },
    "accelerator": "GPU"
  },
  "cells": [
    {
      "cell_type": "code",
      "execution_count": null,
      "metadata": {
        "colab": {
          "base_uri": "https://localhost:8080/"
        },
        "id": "ATeAnb-osKvn",
        "outputId": "3aceb435-b12d-45a0-c574-3434dbba48e1"
      },
      "outputs": [
        {
          "output_type": "stream",
          "name": "stdout",
          "text": [
            "Mounted at /content/drive\n"
          ]
        }
      ],
      "source": [
        "from google.colab import drive\n",
        "drive.mount('/content/drive')"
      ]
    },
    {
      "cell_type": "code",
      "source": [
        "!cp  '/content/drive/MyDrive/Wheat_data.zip' '/content/'"
      ],
      "metadata": {
        "id": "_cwe3DxAsd06"
      },
      "execution_count": null,
      "outputs": []
    },
    {
      "cell_type": "code",
      "source": [
        "!unzip '/content/Wheat_data.zip'"
      ],
      "metadata": {
        "id": "_eUVfrDn8Ize"
      },
      "execution_count": null,
      "outputs": []
    },
    {
      "cell_type": "code",
      "source": [
        "import tensorflow as tf\n",
        "from tensorflow.keras.models import Model\n",
        "from tensorflow.keras.layers import Dense, GlobalAveragePooling2D, Dropout, Flatten,Conv2D,MaxPooling2D,BatchNormalization, Dropout\n",
        "from tensorflow.keras.optimizers import Adam\n",
        "from tensorflow.keras.callbacks import EarlyStopping\n",
        "from tensorflow.keras.models import Sequential\n",
        "from keras.applications import Xception\n",
        "from keras.callbacks import ModelCheckpoint\n",
        "import numpy as np\n",
        "from tensorflow.keras.preprocessing.image import ImageDataGenerator\n",
        "import matplotlib.pyplot as plt"
      ],
      "metadata": {
        "id": "ISYG-Les8K4J"
      },
      "execution_count": null,
      "outputs": []
    },
    {
      "cell_type": "code",
      "source": [
        "batch_size  = 32\n",
        "epochs = 20"
      ],
      "metadata": {
        "id": "w--QnsjN8NJU"
      },
      "execution_count": null,
      "outputs": []
    },
    {
      "cell_type": "code",
      "source": [
        "datagen = ImageDataGenerator(\n",
        "    rotation_range=20,\n",
        "    width_shift_range=0.2,\n",
        "    height_shift_range=0.2,\n",
        "    horizontal_flip=True,\n",
        "    vertical_flip=True,\n",
        "    rescale=1.0 / 255.0,\n",
        ")\n"
      ],
      "metadata": {
        "id": "FkW_XFqY8PYK"
      },
      "execution_count": null,
      "outputs": []
    },
    {
      "cell_type": "code",
      "source": [
        "train_generator = datagen.flow_from_directory(\n",
        "    directory='/content/Wheat_data/train',\n",
        "    target_size=(229, 229),\n",
        "    batch_size= batch_size,\n",
        "    shuffle=True\n",
        ")\n",
        "\n",
        "\n",
        "val_generator = datagen.flow_from_directory(\n",
        "   directory='/content/Wheat_data/val',\n",
        "   target_size=(229, 229),\n",
        "   batch_size= batch_size,\n",
        "   shuffle=False\n",
        ")"
      ],
      "metadata": {
        "colab": {
          "base_uri": "https://localhost:8080/"
        },
        "id": "hJbNQgrg8RQs",
        "outputId": "0cda914f-5f22-4947-d2f3-b426fa662737"
      },
      "execution_count": null,
      "outputs": [
        {
          "output_type": "stream",
          "name": "stdout",
          "text": [
            "Found 2942 images belonging to 3 classes.\n",
            "Found 737 images belonging to 3 classes.\n"
          ]
        }
      ]
    },
    {
      "cell_type": "code",
      "source": [
        "checkpoint = ModelCheckpoint(filepath='maize_disease_model.h5',\n",
        "                             monitor='val_accuracy',\n",
        "                             verbose=1,\n",
        "                             save_best_only=True,\n",
        "                             mode='auto')"
      ],
      "metadata": {
        "id": "yr2pu2a_8TH1"
      },
      "execution_count": null,
      "outputs": []
    },
    {
      "cell_type": "code",
      "source": [
        "xcp = Xception(input_shape=(229,229,3), weights='imagenet', include_top=False,pooling='avg')\n",
        "\n",
        "\n",
        "for layer in xcp.layers:\n",
        "  layer.trainable = False\n",
        "\n",
        "x = Flatten()(xcp.output)\n",
        "x = Dense(256, activation='relu')(x)\n",
        "x = Dropout(0.2)(x)\n",
        "# x = Dense(256, activation='relu')(x)\n",
        "# x = Dropout(0.2)(x)\n",
        "# x = Dense(128, activation='relu')(x)\n",
        "# x = Dropout(0.2)(x)\n",
        "prediction = Dense(3, activation='softmax')(x)\n",
        "model = Model(inputs=xcp.input, outputs=prediction)\n",
        "\n",
        "\n",
        "#model.summary()\n"
      ],
      "metadata": {
        "colab": {
          "base_uri": "https://localhost:8080/"
        },
        "id": "PTGN01tW8bMB",
        "outputId": "958296ad-5b86-4cd1-a21c-ae855835ba52"
      },
      "execution_count": null,
      "outputs": [
        {
          "output_type": "stream",
          "name": "stdout",
          "text": [
            "Downloading data from https://storage.googleapis.com/tensorflow/keras-applications/xception/xception_weights_tf_dim_ordering_tf_kernels_notop.h5\n",
            "83683744/83683744 [==============================] - 0s 0us/step\n"
          ]
        }
      ]
    },
    {
      "cell_type": "code",
      "source": [
        "model.compile(\n",
        "    optimizer='adam',\n",
        "    loss='categorical_crossentropy',\n",
        "    metrics=['accuracy']\n",
        ")"
      ],
      "metadata": {
        "id": "OJpVDv0m8b3O"
      },
      "execution_count": null,
      "outputs": []
    },
    {
      "cell_type": "code",
      "source": [
        "history = model.fit(train_generator,\n",
        "                    epochs=epochs,\n",
        "                    batch_size=batch_size,\n",
        "                    validation_data=(val_generator),\n",
        "                    callbacks=[checkpoint])"
      ],
      "metadata": {
        "colab": {
          "base_uri": "https://localhost:8080/"
        },
        "id": "QZy-D7AD9dQn",
        "outputId": "5056eab2-bd5b-4cfe-93d8-e8b6660815dd"
      },
      "execution_count": null,
      "outputs": [
        {
          "output_type": "stream",
          "name": "stdout",
          "text": [
            "Epoch 1/20\n",
            "92/92 [==============================] - ETA: 0s - loss: 0.3344 - accuracy: 0.8668\n",
            "Epoch 1: val_accuracy did not improve from 0.96065\n",
            "92/92 [==============================] - 115s 699ms/step - loss: 0.3344 - accuracy: 0.8668 - val_loss: 0.1613 - val_accuracy: 0.9376\n",
            "Epoch 2/20\n",
            "92/92 [==============================] - ETA: 0s - loss: 0.1590 - accuracy: 0.9426\n",
            "Epoch 2: val_accuracy did not improve from 0.96065\n",
            "92/92 [==============================] - 63s 682ms/step - loss: 0.1590 - accuracy: 0.9426 - val_loss: 0.1601 - val_accuracy: 0.9430\n",
            "Epoch 3/20\n",
            "92/92 [==============================] - ETA: 0s - loss: 0.1554 - accuracy: 0.9436\n",
            "Epoch 3: val_accuracy did not improve from 0.96065\n",
            "92/92 [==============================] - 63s 683ms/step - loss: 0.1554 - accuracy: 0.9436 - val_loss: 0.1401 - val_accuracy: 0.9471\n",
            "Epoch 4/20\n",
            "92/92 [==============================] - ETA: 0s - loss: 0.1257 - accuracy: 0.9521\n",
            "Epoch 4: val_accuracy did not improve from 0.96065\n",
            "92/92 [==============================] - 63s 683ms/step - loss: 0.1257 - accuracy: 0.9521 - val_loss: 0.1561 - val_accuracy: 0.9430\n",
            "Epoch 5/20\n",
            "92/92 [==============================] - ETA: 0s - loss: 0.1327 - accuracy: 0.9487\n",
            "Epoch 5: val_accuracy did not improve from 0.96065\n",
            "92/92 [==============================] - 65s 706ms/step - loss: 0.1327 - accuracy: 0.9487 - val_loss: 0.1242 - val_accuracy: 0.9471\n",
            "Epoch 6/20\n",
            "92/92 [==============================] - ETA: 0s - loss: 0.1110 - accuracy: 0.9589\n",
            "Epoch 6: val_accuracy did not improve from 0.96065\n",
            "92/92 [==============================] - 61s 667ms/step - loss: 0.1110 - accuracy: 0.9589 - val_loss: 0.1103 - val_accuracy: 0.9566\n",
            "Epoch 7/20\n",
            "92/92 [==============================] - ETA: 0s - loss: 0.1271 - accuracy: 0.9572\n",
            "Epoch 7: val_accuracy did not improve from 0.96065\n",
            "92/92 [==============================] - 64s 695ms/step - loss: 0.1271 - accuracy: 0.9572 - val_loss: 0.1278 - val_accuracy: 0.9484\n",
            "Epoch 8/20\n",
            "92/92 [==============================] - ETA: 0s - loss: 0.1058 - accuracy: 0.9609\n",
            "Epoch 8: val_accuracy improved from 0.96065 to 0.97015, saving model to maize_disease_model.h5\n"
          ]
        },
        {
          "output_type": "stream",
          "name": "stderr",
          "text": [
            "/usr/local/lib/python3.10/dist-packages/keras/src/engine/training.py:3103: UserWarning: You are saving your model as an HDF5 file via `model.save()`. This file format is considered legacy. We recommend using instead the native Keras format, e.g. `model.save('my_model.keras')`.\n",
            "  saving_api.save_model(\n"
          ]
        },
        {
          "output_type": "stream",
          "name": "stdout",
          "text": [
            "\b\b\b\b\b\b\b\b\b\b\b\b\b\b\b\b\b\b\b\b\b\b\b\b\b\b\b\b\b\b\b\b\b\b\b\b\b\b\b\b\b\b\b\b\b\b\b\b\b\b\b\b\b\b\b\b\b\b\b\b\b\b\b\b\b\b\b\b\b\b\b\b\b\b\b\b\b\b\b\b\b\b\r92/92 [==============================] - 67s 733ms/step - loss: 0.1058 - accuracy: 0.9609 - val_loss: 0.0844 - val_accuracy: 0.9701\n",
            "Epoch 9/20\n",
            "92/92 [==============================] - ETA: 0s - loss: 0.1056 - accuracy: 0.9609\n",
            "Epoch 9: val_accuracy did not improve from 0.97015\n",
            "92/92 [==============================] - 63s 686ms/step - loss: 0.1056 - accuracy: 0.9609 - val_loss: 0.1462 - val_accuracy: 0.9484\n",
            "Epoch 10/20\n",
            "92/92 [==============================] - ETA: 0s - loss: 0.1046 - accuracy: 0.9623\n",
            "Epoch 10: val_accuracy did not improve from 0.97015\n",
            "92/92 [==============================] - 62s 676ms/step - loss: 0.1046 - accuracy: 0.9623 - val_loss: 0.1103 - val_accuracy: 0.9566\n",
            "Epoch 11/20\n",
            "92/92 [==============================] - ETA: 0s - loss: 0.1035 - accuracy: 0.9650\n",
            "Epoch 11: val_accuracy did not improve from 0.97015\n",
            "92/92 [==============================] - 63s 682ms/step - loss: 0.1035 - accuracy: 0.9650 - val_loss: 0.1611 - val_accuracy: 0.9403\n",
            "Epoch 12/20\n",
            "92/92 [==============================] - ETA: 0s - loss: 0.0957 - accuracy: 0.9633\n",
            "Epoch 12: val_accuracy did not improve from 0.97015\n",
            "92/92 [==============================] - 63s 690ms/step - loss: 0.0957 - accuracy: 0.9633 - val_loss: 0.0957 - val_accuracy: 0.9634\n",
            "Epoch 13/20\n",
            "92/92 [==============================] - ETA: 0s - loss: 0.0933 - accuracy: 0.9643\n",
            "Epoch 13: val_accuracy did not improve from 0.97015\n",
            "92/92 [==============================] - 60s 657ms/step - loss: 0.0933 - accuracy: 0.9643 - val_loss: 0.0991 - val_accuracy: 0.9607\n",
            "Epoch 14/20\n",
            "92/92 [==============================] - ETA: 0s - loss: 0.0909 - accuracy: 0.9657\n",
            "Epoch 14: val_accuracy did not improve from 0.97015\n",
            "92/92 [==============================] - 64s 695ms/step - loss: 0.0909 - accuracy: 0.9657 - val_loss: 0.0750 - val_accuracy: 0.9701\n",
            "Epoch 15/20\n",
            "92/92 [==============================] - ETA: 0s - loss: 0.0847 - accuracy: 0.9704\n",
            "Epoch 15: val_accuracy did not improve from 0.97015\n",
            "92/92 [==============================] - 62s 675ms/step - loss: 0.0847 - accuracy: 0.9704 - val_loss: 0.0963 - val_accuracy: 0.9607\n",
            "Epoch 16/20\n",
            "92/92 [==============================] - ETA: 0s - loss: 0.0818 - accuracy: 0.9677\n",
            "Epoch 16: val_accuracy did not improve from 0.97015\n",
            "92/92 [==============================] - 64s 692ms/step - loss: 0.0818 - accuracy: 0.9677 - val_loss: 0.1062 - val_accuracy: 0.9647\n",
            "Epoch 17/20\n",
            "92/92 [==============================] - ETA: 0s - loss: 0.1011 - accuracy: 0.9630\n",
            "Epoch 17: val_accuracy did not improve from 0.97015\n",
            "92/92 [==============================] - 62s 671ms/step - loss: 0.1011 - accuracy: 0.9630 - val_loss: 0.1106 - val_accuracy: 0.9579\n",
            "Epoch 18/20\n",
            "92/92 [==============================] - ETA: 0s - loss: 0.0836 - accuracy: 0.9718\n",
            "Epoch 18: val_accuracy did not improve from 0.97015\n",
            "92/92 [==============================] - 71s 778ms/step - loss: 0.0836 - accuracy: 0.9718 - val_loss: 0.0836 - val_accuracy: 0.9661\n",
            "Epoch 19/20\n",
            "92/92 [==============================] - ETA: 0s - loss: 0.0711 - accuracy: 0.9745\n",
            "Epoch 19: val_accuracy did not improve from 0.97015\n",
            "92/92 [==============================] - 64s 692ms/step - loss: 0.0711 - accuracy: 0.9745 - val_loss: 0.1117 - val_accuracy: 0.9593\n",
            "Epoch 20/20\n",
            "92/92 [==============================] - ETA: 0s - loss: 0.0789 - accuracy: 0.9731\n",
            "Epoch 20: val_accuracy did not improve from 0.97015\n",
            "92/92 [==============================] - 61s 665ms/step - loss: 0.0789 - accuracy: 0.9731 - val_loss: 0.1006 - val_accuracy: 0.9661\n"
          ]
        }
      ]
    }
  ]
}